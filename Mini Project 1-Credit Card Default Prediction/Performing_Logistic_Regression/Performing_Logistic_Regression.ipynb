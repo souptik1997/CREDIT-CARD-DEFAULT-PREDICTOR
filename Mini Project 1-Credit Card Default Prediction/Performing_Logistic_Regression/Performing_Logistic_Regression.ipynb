{
  "nbformat": 4,
  "nbformat_minor": 0,
  "metadata": {
    "kernelspec": {
      "display_name": "Python 3",
      "language": "python",
      "name": "python3"
    },
    "language_info": {
      "codemirror_mode": {
        "name": "ipython",
        "version": 3
      },
      "file_extension": ".py",
      "mimetype": "text/x-python",
      "name": "python",
      "nbconvert_exporter": "python",
      "pygments_lexer": "ipython3",
      "version": "3.7.4"
    },
    "colab": {
      "name": "Performing_Logistic_Regression.ipynb",
      "provenance": [],
      "collapsed_sections": []
    }
  },
  "cells": [
    {
      "cell_type": "code",
      "metadata": {
        "colab": {
          "base_uri": "https://localhost:8080/",
          "height": 34
        },
        "id": "6Su_F8EHfVe4",
        "outputId": "3ee40bd0-5455-43cb-f236-1aff35caaf70"
      },
      "source": [
        "%autosave 10"
      ],
      "execution_count": 1,
      "outputs": [
        {
          "output_type": "display_data",
          "data": {
            "application/javascript": [
              "IPython.notebook.set_autosave_interval(10000)"
            ]
          },
          "metadata": {
            "tags": []
          }
        },
        {
          "output_type": "stream",
          "text": [
            "Autosaving every 10 seconds\n"
          ],
          "name": "stdout"
        }
      ]
    },
    {
      "cell_type": "code",
      "metadata": {
        "colab": {
          "base_uri": "https://localhost:8080/"
        },
        "id": "bi3QIz8kgRLM",
        "outputId": "41dacbd8-064e-418e-fd51-0b42c9355113"
      },
      "source": [
        "from google.colab import drive\r\n",
        "drive.mount('/content/drive')"
      ],
      "execution_count": 4,
      "outputs": [
        {
          "output_type": "stream",
          "text": [
            "Mounted at /content/drive\n"
          ],
          "name": "stdout"
        }
      ]
    },
    {
      "cell_type": "code",
      "metadata": {
        "id": "M3vnyBTifjro"
      },
      "source": [
        "import pandas as  pd\n",
        "import numpy as np\n",
        "import sklearn\n",
        "import matplotlib.pyplot as plt\n",
        "\n",
        "from sklearn.model_selection import train_test_split"
      ],
      "execution_count": 12,
      "outputs": []
    },
    {
      "cell_type": "markdown",
      "metadata": {
        "id": "tTyeXtbMfVfA"
      },
      "source": [
        "**First, create a dataframe of *cleaned_data.csv*. Then, use scikit-learn's `train_test_split` to make a new set of training and testing data. This time, instead of `EDUCATION`, use `LIMIT_BAL`: the account's credit limit.**"
      ]
    },
    {
      "cell_type": "code",
      "metadata": {
        "eid": "662ef",
        "colab": {
          "base_uri": "https://localhost:8080/"
        },
        "id": "p0OivuoRfVfB",
        "outputId": "9ae4bdd5-34ef-4359-fd13-0395986077ec"
      },
      "source": [
        "df=pd.read_csv(\"/content/drive/MyDrive/Internship/Internship/Project-Data-Set-Repository-master/Project-Data-Set-Repository-master/Data set/cleaned_data.csv\")\r\n",
        "X_train, X_test, y_train, y_test = train_test_split(df['LIMIT_BAL'].values.reshape(-1,1), df['default payment next month'].values,test_size=0.2, random_state=24)\r\n",
        "y_train"
      ],
      "execution_count": 5,
      "outputs": [
        {
          "output_type": "execute_result",
          "data": {
            "text/plain": [
              "array([1, 1, 0, ..., 1, 1, 0])"
            ]
          },
          "metadata": {
            "tags": []
          },
          "execution_count": 5
        }
      ]
    },
    {
      "cell_type": "markdown",
      "metadata": {
        "id": "PSxdCZnpfVfC"
      },
      "source": [
        "_________________________________________________________________________\n",
        "**Next, train a logistic regression model using the training data from your split.**\n"
      ]
    },
    {
      "cell_type": "code",
      "metadata": {
        "colab": {
          "base_uri": "https://localhost:8080/"
        },
        "id": "ONcxZgESme6g",
        "outputId": "001b3350-70c0-4e6d-a7b9-b59f295f6a18"
      },
      "source": [
        "from sklearn.linear_model import LogisticRegression\r\n",
        "model = LogisticRegression(C=0.1, class_weight=None, dual=False, fit_intercept=True, \\\r\n",
        "                                intercept_scaling=1, max_iter=100, multi_class='auto', n_jobs=None, \\\r\n",
        "                                penalty='l2', random_state=None, solver='liblinear', tol=0.0001, \\\r\n",
        "                                verbose=0, warm_start=False)\r\n",
        "model.fit(X_train,y_train)\r\n"
      ],
      "execution_count": 6,
      "outputs": [
        {
          "output_type": "execute_result",
          "data": {
            "text/plain": [
              "LogisticRegression(C=0.1, class_weight=None, dual=False, fit_intercept=True,\n",
              "                   intercept_scaling=1, l1_ratio=None, max_iter=100,\n",
              "                   multi_class='auto', n_jobs=None, penalty='l2',\n",
              "                   random_state=None, solver='liblinear', tol=0.0001, verbose=0,\n",
              "                   warm_start=False)"
            ]
          },
          "metadata": {
            "tags": []
          },
          "execution_count": 6
        }
      ]
    },
    {
      "cell_type": "markdown",
      "metadata": {
        "id": "dbgNPv2KfVfC"
      },
      "source": [
        "_________________________________________________________________________\n",
        "**Then, create the array of predicted probabilities for the testing data.**\n"
      ]
    },
    {
      "cell_type": "code",
      "metadata": {
        "eid": "b671b",
        "id": "htXfZoP4fVfD"
      },
      "source": [
        "y_pred=model.predict(X_test)\r\n",
        "y_pred_proba = model.predict_proba(X_test)\r\n",
        "prob_sum = np.sum(y_pred_proba,1)\r\n",
        "pos_proba = y_pred_proba[:,1]\r\n"
      ],
      "execution_count": 9,
      "outputs": []
    },
    {
      "cell_type": "markdown",
      "metadata": {
        "id": "obngRmmmfVfD"
      },
      "source": [
        "_________________________________________________________________________\n",
        "**Next, calculate the ROC AUC using the predicted probabilities and the true labels of the testing data. Compare this to the ROC AUC from using the `EDUCATION` feature.**\n"
      ]
    },
    {
      "cell_type": "code",
      "metadata": {
        "eid": "58476",
        "id": "lxuTACZjfVfE"
      },
      "source": [
        "fpr, tpr, thresholds = metrics.roc_curve(y_test, pos_proba)"
      ],
      "execution_count": 10,
      "outputs": []
    },
    {
      "cell_type": "markdown",
      "metadata": {
        "id": "zS8hv-GzfVfE"
      },
      "source": [
        "_________________________________________________________________________\n",
        "**Now, plot the ROC curve.**\n"
      ]
    },
    {
      "cell_type": "code",
      "metadata": {
        "eid": "289eb",
        "colab": {
          "base_uri": "https://localhost:8080/",
          "height": 312
        },
        "id": "ixooKEh2fVfE",
        "outputId": "5b548f97-e709-4212-d1e9-c08dffaabfd8"
      },
      "source": [
        "plt.plot(fpr, tpr, '*-')\r\n",
        "plt.plot([0, 1], [0, 1], 'r--')\r\n",
        "plt.legend(['Logistic regression', 'Random chance'])\r\n",
        "plt.xlabel('FPR')\r\n",
        "plt.ylabel('TPR')\r\n",
        "plt.title('ROC curve')"
      ],
      "execution_count": 13,
      "outputs": [
        {
          "output_type": "execute_result",
          "data": {
            "text/plain": [
              "Text(0.5, 1.0, 'ROC curve')"
            ]
          },
          "metadata": {
            "tags": []
          },
          "execution_count": 13
        },
        {
          "output_type": "display_data",
          "data": {
            "image/png": "[encoded data removed]",
            "text/plain": [
              "<Figure size 432x288 with 1 Axes>"
            ]
          },
          "metadata": {
            "tags": [],
            "needs_background": "light"
          }
        }
      ]
    },
    {
      "cell_type": "markdown",
      "metadata": {
        "id": "FdvAhpnqfVfF"
      },
      "source": [
        "_________________________________________________________________________\n",
        "**Then, calculate the data for the precision-recall curve on the testing data using scikit-learn functionality.**\n"
      ]
    },
    {
      "cell_type": "code",
      "metadata": {
        "eid": "73fdb",
        "id": "2JL9OoSQfVfF"
      },
      "source": [
        "precision, recall, threshold  = metrics.precision_recall_curve(y_test, pos_proba)"
      ],
      "execution_count": 20,
      "outputs": []
    },
    {
      "cell_type": "markdown",
      "metadata": {
        "id": "7t-TX6j5fVfF"
      },
      "source": [
        "_________________________________________________________________________\n",
        "**Plot the precision-recall curve using matplotlib.**\n"
      ]
    },
    {
      "cell_type": "code",
      "metadata": {
        "ein": "5119c",
        "colab": {
          "base_uri": "https://localhost:8080/",
          "height": 312
        },
        "id": "51Rz_M2LfVfF",
        "outputId": "59df7850-1d38-45e1-c327-9510499715b7"
      },
      "source": [
        "plt.plot(precision, recall, '*-')\r\n",
        "plt.plot([0, 1], [0, 1], 'r--')\r\n",
        "plt.legend(['Logistic regression', 'Random chance'])\r\n",
        "plt.xlabel('Precision')\r\n",
        "plt.ylabel('Recall')\r\n",
        "plt.title('Precison-Recall curve')"
      ],
      "execution_count": 16,
      "outputs": [
        {
          "output_type": "execute_result",
          "data": {
            "text/plain": [
              "Text(0.5, 1.0, 'Precison-Recall curve')"
            ]
          },
          "metadata": {
            "tags": []
          },
          "execution_count": 16
        },
        {
          "output_type": "display_data",
          "data": {
            "image/png": "[encoded data removed]",
            "text/plain": [
              "<Figure size 432x288 with 1 Axes>"
            ]
          },
          "metadata": {
            "tags": [],
            "needs_background": "light"
          }
        }
      ]
    },
    {
      "cell_type": "markdown",
      "metadata": {
        "id": "_G7_b2DNfVfG"
      },
      "source": [
        "_________________________________________________________________________\n",
        "**Now, use scikit-learn to calculate the area under the precision-recall curve.**\n"
      ]
    },
    {
      "cell_type": "code",
      "metadata": {
        "eid": "34e7d",
        "colab": {
          "base_uri": "https://localhost:8080/"
        },
        "id": "Gt0dDqgQfVfG",
        "outputId": "2a90837e-4b74-4271-f77d-413c582df300"
      },
      "source": [
        "metrics. auc(recall, precision)"
      ],
      "execution_count": 22,
      "outputs": [
        {
          "output_type": "execute_result",
          "data": {
            "text/plain": [
              "0.31566964427378624"
            ]
          },
          "metadata": {
            "tags": []
          },
          "execution_count": 22
        }
      ]
    },
    {
      "cell_type": "markdown",
      "metadata": {
        "id": "5Xz302YNfVfG"
      },
      "source": [
        "_________________________________________________________________________\n",
        "**Finally, recalculate the ROC AUC, except this time do it for the training data.**"
      ]
    },
    {
      "cell_type": "code",
      "metadata": {
        "eid": "d61c3",
        "colab": {
          "base_uri": "https://localhost:8080/",
          "height": 312
        },
        "id": "joX5SMg5fVfH",
        "outputId": "b996e4e8-d1c6-4ffe-8a93-2ab09b5776dc"
      },
      "source": [
        "y_pred_proba1 = model.predict_proba(X_train)\r\n",
        "prob_sum1 = np.sum(y_pred_proba1,1)\r\n",
        "pos_proba1 = y_pred_proba1[:,1]\r\n",
        "\r\n",
        "fpr1, tpr1, thresholds1 = metrics.roc_curve(y_train, pos_proba1)\r\n",
        "plt.plot(fpr1, tpr1, '*-')\r\n",
        "plt.plot([0, 1], [0, 1], 'r--')\r\n",
        "plt.legend(['Logistic regression', 'Random chance'])\r\n",
        "plt.xlabel('FPR')\r\n",
        "plt.ylabel('TPR')\r\n",
        "plt.title('ROC curve1')"
      ],
      "execution_count": 24,
      "outputs": [
        {
          "output_type": "execute_result",
          "data": {
            "text/plain": [
              "Text(0.5, 1.0, 'ROC curve1')"
            ]
          },
          "metadata": {
            "tags": []
          },
          "execution_count": 24
        },
        {
          "output_type": "display_data",
          "data": {
            "image/png": "[encoded data removed]",
            "text/plain": [
              "<Figure size 432x288 with 1 Axes>"
            ]
          },
          "metadata": {
            "tags": [],
            "needs_background": "light"
          }
        }
      ]
    },
    {
      "cell_type": "markdown",
      "metadata": {
        "id": "fXMriTd_fVfH"
      },
      "source": [
        "    How is this different, conceptually and quantitatively, from your earlier calculation?\n"
      ]
    }
  ]
}