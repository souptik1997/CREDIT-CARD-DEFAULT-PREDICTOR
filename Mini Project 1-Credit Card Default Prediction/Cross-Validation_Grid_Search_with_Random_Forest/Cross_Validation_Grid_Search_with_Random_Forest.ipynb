{
  "nbformat": 4,
  "nbformat_minor": 0,
  "metadata": {
    "kernelspec": {
      "display_name": "Python 3",
      "language": "python",
      "name": "python3"
    },
    "language_info": {
      "codemirror_mode": {
        "name": "ipython",
        "version": 3
      },
      "file_extension": ".py",
      "mimetype": "text/x-python",
      "name": "python",
      "nbconvert_exporter": "python",
      "pygments_lexer": "ipython3",
      "version": "3.7.4"
    },
    "colab": {
      "name": "Cross-Validation_Grid_Search_with_Random_Forest.ipynb",
      "provenance": [],
      "collapsed_sections": []
    }
  },
  "cells": [
    {
      "cell_type": "markdown",
      "metadata": {
        "id": "mFlyCpn2HWDi"
      },
      "source": [
        "**Run the following two cells before you begin.**"
      ]
    },
    {
      "cell_type": "code",
      "metadata": {
        "colab": {
          "base_uri": "https://localhost:8080/",
          "height": 34
        },
        "id": "crKNBkY7HWDz",
        "outputId": "bfec3dfb-68ae-41c2-c42c-8c89120ecf7b"
      },
      "source": [
        "%autosave 10"
      ],
      "execution_count": 9,
      "outputs": [
        {
          "output_type": "display_data",
          "data": {
            "application/javascript": [
              "IPython.notebook.set_autosave_interval(10000)"
            ]
          },
          "metadata": {
            "tags": []
          }
        },
        {
          "output_type": "stream",
          "text": [
            "Autosaving every 10 seconds\n"
          ],
          "name": "stdout"
        }
      ]
    },
    {
      "cell_type": "code",
      "metadata": {
        "id": "fWXLFxBBHWD1"
      },
      "source": [
        "import pandas as pd\n",
        "import numpy as np\n",
        "import matplotlib.pyplot as plt\n",
        "\n",
        "%matplotlib inline\n",
        "\n",
        "df = pd.read_csv('cleaned_data.csv')"
      ],
      "execution_count": 3,
      "outputs": []
    },
    {
      "cell_type": "markdown",
      "metadata": {
        "id": "BLrQsBOFHWD1"
      },
      "source": [
        "**Run the following 3 cells to create a list of features, create a train/test split, and instantiate a random forest classifier.**"
      ]
    },
    {
      "cell_type": "code",
      "metadata": {
        "colab": {
          "base_uri": "https://localhost:8080/"
        },
        "id": "i10gB-pHHWD2",
        "outputId": "d3f5cc97-928c-48b7-bcb2-173699aec3fc"
      },
      "source": [
        "features_response = df.columns.tolist()\n",
        "items_to_remove = ['ID', 'SEX', 'PAY_2', 'PAY_3', 'PAY_4', 'PAY_5', 'PAY_6',\n",
        "                   'EDUCATION_CAT', 'graduate school', 'high school', 'none',\n",
        "                   'others', 'university']\n",
        "features_response = [item for item in features_response if item not in items_to_remove]\n",
        "features_response"
      ],
      "execution_count": 4,
      "outputs": [
        {
          "output_type": "execute_result",
          "data": {
            "text/plain": [
              "['LIMIT_BAL',\n",
              " 'EDUCATION',\n",
              " 'MARRIAGE',\n",
              " 'AGE',\n",
              " 'PAY_1',\n",
              " 'BILL_AMT1',\n",
              " 'BILL_AMT2',\n",
              " 'BILL_AMT3',\n",
              " 'BILL_AMT4',\n",
              " 'BILL_AMT5',\n",
              " 'BILL_AMT6',\n",
              " 'PAY_AMT1',\n",
              " 'PAY_AMT2',\n",
              " 'PAY_AMT3',\n",
              " 'PAY_AMT4',\n",
              " 'PAY_AMT5',\n",
              " 'PAY_AMT6',\n",
              " 'default payment next month']"
            ]
          },
          "metadata": {
            "tags": []
          },
          "execution_count": 4
        }
      ]
    },
    {
      "cell_type": "code",
      "metadata": {
        "id": "6zHc_FE8HWD4"
      },
      "source": [
        "from sklearn.model_selection import train_test_split\n",
        "\n",
        "X_train, X_test, y_train, y_test = train_test_split(\n",
        "    df[features_response[:-1]].values,\n",
        "    df['default payment next month'].values,\n",
        "    test_size=0.2, random_state=24\n",
        ")"
      ],
      "execution_count": 5,
      "outputs": []
    },
    {
      "cell_type": "code",
      "metadata": {
        "id": "er-M5f14HWD5"
      },
      "source": [
        "from sklearn.ensemble import RandomForestClassifier\n",
        "\n",
        "rf = RandomForestClassifier(\n",
        "    n_estimators=10, criterion='gini', max_depth=3,\n",
        "    min_samples_split=2, min_samples_leaf=1, min_weight_fraction_leaf=0.0,\n",
        "    max_features='auto', max_leaf_nodes=None, min_impurity_decrease=0.0,\n",
        "    min_impurity_split=None, bootstrap=True, oob_score=False, n_jobs=None,\n",
        "    random_state=4, verbose=0, warm_start=False, class_weight=None\n",
        ")"
      ],
      "execution_count": 6,
      "outputs": []
    },
    {
      "cell_type": "markdown",
      "metadata": {
        "id": "BTPEiFKLHWD6"
      },
      "source": [
        "**Create a dictionary representing the grid for the `max_depth` and `n_estimators` hyperparameters that will be searched. Include depths of 3, 6, 9, and 12, and 10, 50, 100, and 200 trees.**"
      ]
    },
    {
      "cell_type": "code",
      "metadata": {
        "id": "XwPc0RXrHWD7"
      },
      "source": [
        "\r\n",
        "params = {\r\n",
        "    'max_depth':[3,6,9,12],\r\n",
        "    'n_estimators':[10,50,100,200]\r\n",
        "}"
      ],
      "execution_count": 10,
      "outputs": []
    },
    {
      "cell_type": "markdown",
      "metadata": {
        "id": "0eEQnGimHWD8"
      },
      "source": [
        "________________________________________________________________\n",
        "**Instantiate a `GridSearchCV` object using the same options that we have previously in this course, but with the dictionary of hyperparameters created above. Set `verbose=2` to see the output for each fit performed.**"
      ]
    },
    {
      "cell_type": "code",
      "metadata": {
        "id": "MsckdnGLHWD8"
      },
      "source": [
        "from sklearn.model_selection import GridSearchCV\r\n",
        "\r\n",
        "grid_cv = GridSearchCV(rf, param_grid=params, scoring='roc_auc',\r\n",
        "                  n_jobs=None, iid=False, refit=True, cv=4, verbose=2,\r\n",
        "                  pre_dispatch=None, error_score=np.nan, return_train_score=True)"
      ],
      "execution_count": 11,
      "outputs": []
    },
    {
      "cell_type": "markdown",
      "metadata": {
        "id": "rLeZqlHQHWD9"
      },
      "source": [
        "____________________________________________________\n",
        "**Fit the `GridSearchCV` object on the training data.**"
      ]
    },
    {
      "cell_type": "code",
      "metadata": {
        "id": "ndpII5RhHWD-",
        "colab": {
          "base_uri": "https://localhost:8080/"
        },
        "outputId": "958ae8cf-a1ac-4a89-bee3-ff63b2b7fd9e"
      },
      "source": [
        "grid_cv.fit(X_train, y_train)"
      ],
      "execution_count": 12,
      "outputs": [
        {
          "output_type": "stream",
          "text": [
            "Fitting 4 folds for each of 16 candidates, totalling 64 fits\n",
            "[CV] max_depth=3, n_estimators=10 ....................................\n",
            "[CV] ..................... max_depth=3, n_estimators=10, total=   0.1s\n",
            "[CV] max_depth=3, n_estimators=10 ....................................\n"
          ],
          "name": "stdout"
        },
        {
          "output_type": "stream",
          "text": [
            "[Parallel(n_jobs=1)]: Using backend SequentialBackend with 1 concurrent workers.\n",
            "[Parallel(n_jobs=1)]: Done   1 out of   1 | elapsed:    0.2s remaining:    0.0s\n"
          ],
          "name": "stderr"
        },
        {
          "output_type": "stream",
          "text": [
            "[CV] ..................... max_depth=3, n_estimators=10, total=   0.2s\n",
            "[CV] max_depth=3, n_estimators=10 ....................................\n",
            "[CV] ..................... max_depth=3, n_estimators=10, total=   0.2s\n",
            "[CV] max_depth=3, n_estimators=10 ....................................\n",
            "[CV] ..................... max_depth=3, n_estimators=10, total=   0.2s\n",
            "[CV] max_depth=3, n_estimators=50 ....................................\n",
            "[CV] ..................... max_depth=3, n_estimators=50, total=   0.7s\n",
            "[CV] max_depth=3, n_estimators=50 ....................................\n",
            "[CV] ..................... max_depth=3, n_estimators=50, total=   0.8s\n",
            "[CV] max_depth=3, n_estimators=50 ....................................\n",
            "[CV] ..................... max_depth=3, n_estimators=50, total=   0.7s\n",
            "[CV] max_depth=3, n_estimators=50 ....................................\n",
            "[CV] ..................... max_depth=3, n_estimators=50, total=   0.7s\n",
            "[CV] max_depth=3, n_estimators=100 ...................................\n",
            "[CV] .................... max_depth=3, n_estimators=100, total=   1.4s\n",
            "[CV] max_depth=3, n_estimators=100 ...................................\n",
            "[CV] .................... max_depth=3, n_estimators=100, total=   1.4s\n",
            "[CV] max_depth=3, n_estimators=100 ...................................\n",
            "[CV] .................... max_depth=3, n_estimators=100, total=   1.4s\n",
            "[CV] max_depth=3, n_estimators=100 ...................................\n",
            "[CV] .................... max_depth=3, n_estimators=100, total=   1.4s\n",
            "[CV] max_depth=3, n_estimators=200 ...................................\n",
            "[CV] .................... max_depth=3, n_estimators=200, total=   2.7s\n",
            "[CV] max_depth=3, n_estimators=200 ...................................\n",
            "[CV] .................... max_depth=3, n_estimators=200, total=   2.8s\n",
            "[CV] max_depth=3, n_estimators=200 ...................................\n",
            "[CV] .................... max_depth=3, n_estimators=200, total=   2.7s\n",
            "[CV] max_depth=3, n_estimators=200 ...................................\n",
            "[CV] .................... max_depth=3, n_estimators=200, total=   2.7s\n",
            "[CV] max_depth=6, n_estimators=10 ....................................\n",
            "[CV] ..................... max_depth=6, n_estimators=10, total=   0.2s\n",
            "[CV] max_depth=6, n_estimators=10 ....................................\n",
            "[CV] ..................... max_depth=6, n_estimators=10, total=   0.2s\n",
            "[CV] max_depth=6, n_estimators=10 ....................................\n",
            "[CV] ..................... max_depth=6, n_estimators=10, total=   0.2s\n",
            "[CV] max_depth=6, n_estimators=10 ....................................\n",
            "[CV] ..................... max_depth=6, n_estimators=10, total=   0.2s\n",
            "[CV] max_depth=6, n_estimators=50 ....................................\n",
            "[CV] ..................... max_depth=6, n_estimators=50, total=   1.2s\n",
            "[CV] max_depth=6, n_estimators=50 ....................................\n",
            "[CV] ..................... max_depth=6, n_estimators=50, total=   1.2s\n",
            "[CV] max_depth=6, n_estimators=50 ....................................\n",
            "[CV] ..................... max_depth=6, n_estimators=50, total=   1.2s\n",
            "[CV] max_depth=6, n_estimators=50 ....................................\n",
            "[CV] ..................... max_depth=6, n_estimators=50, total=   1.2s\n",
            "[CV] max_depth=6, n_estimators=100 ...................................\n",
            "[CV] .................... max_depth=6, n_estimators=100, total=   2.3s\n",
            "[CV] max_depth=6, n_estimators=100 ...................................\n",
            "[CV] .................... max_depth=6, n_estimators=100, total=   2.3s\n",
            "[CV] max_depth=6, n_estimators=100 ...................................\n",
            "[CV] .................... max_depth=6, n_estimators=100, total=   2.3s\n",
            "[CV] max_depth=6, n_estimators=100 ...................................\n",
            "[CV] .................... max_depth=6, n_estimators=100, total=   2.3s\n",
            "[CV] max_depth=6, n_estimators=200 ...................................\n",
            "[CV] .................... max_depth=6, n_estimators=200, total=   4.6s\n",
            "[CV] max_depth=6, n_estimators=200 ...................................\n",
            "[CV] .................... max_depth=6, n_estimators=200, total=   4.6s\n",
            "[CV] max_depth=6, n_estimators=200 ...................................\n",
            "[CV] .................... max_depth=6, n_estimators=200, total=   4.6s\n",
            "[CV] max_depth=6, n_estimators=200 ...................................\n",
            "[CV] .................... max_depth=6, n_estimators=200, total=   4.6s\n",
            "[CV] max_depth=9, n_estimators=10 ....................................\n",
            "[CV] ..................... max_depth=9, n_estimators=10, total=   0.4s\n",
            "[CV] max_depth=9, n_estimators=10 ....................................\n",
            "[CV] ..................... max_depth=9, n_estimators=10, total=   0.3s\n",
            "[CV] max_depth=9, n_estimators=10 ....................................\n",
            "[CV] ..................... max_depth=9, n_estimators=10, total=   0.3s\n",
            "[CV] max_depth=9, n_estimators=10 ....................................\n",
            "[CV] ..................... max_depth=9, n_estimators=10, total=   0.3s\n",
            "[CV] max_depth=9, n_estimators=50 ....................................\n",
            "[CV] ..................... max_depth=9, n_estimators=50, total=   1.6s\n",
            "[CV] max_depth=9, n_estimators=50 ....................................\n",
            "[CV] ..................... max_depth=9, n_estimators=50, total=   1.6s\n",
            "[CV] max_depth=9, n_estimators=50 ....................................\n",
            "[CV] ..................... max_depth=9, n_estimators=50, total=   1.6s\n",
            "[CV] max_depth=9, n_estimators=50 ....................................\n",
            "[CV] ..................... max_depth=9, n_estimators=50, total=   1.6s\n",
            "[CV] max_depth=9, n_estimators=100 ...................................\n",
            "[CV] .................... max_depth=9, n_estimators=100, total=   3.1s\n",
            "[CV] max_depth=9, n_estimators=100 ...................................\n",
            "[CV] .................... max_depth=9, n_estimators=100, total=   3.1s\n",
            "[CV] max_depth=9, n_estimators=100 ...................................\n",
            "[CV] .................... max_depth=9, n_estimators=100, total=   3.2s\n",
            "[CV] max_depth=9, n_estimators=100 ...................................\n",
            "[CV] .................... max_depth=9, n_estimators=100, total=   3.2s\n",
            "[CV] max_depth=9, n_estimators=200 ...................................\n",
            "[CV] .................... max_depth=9, n_estimators=200, total=   6.3s\n",
            "[CV] max_depth=9, n_estimators=200 ...................................\n",
            "[CV] .................... max_depth=9, n_estimators=200, total=   6.4s\n",
            "[CV] max_depth=9, n_estimators=200 ...................................\n",
            "[CV] .................... max_depth=9, n_estimators=200, total=   6.3s\n",
            "[CV] max_depth=9, n_estimators=200 ...................................\n",
            "[CV] .................... max_depth=9, n_estimators=200, total=   6.3s\n",
            "[CV] max_depth=12, n_estimators=10 ...................................\n",
            "[CV] .................... max_depth=12, n_estimators=10, total=   0.4s\n",
            "[CV] max_depth=12, n_estimators=10 ...................................\n",
            "[CV] .................... max_depth=12, n_estimators=10, total=   0.4s\n",
            "[CV] max_depth=12, n_estimators=10 ...................................\n",
            "[CV] .................... max_depth=12, n_estimators=10, total=   0.4s\n",
            "[CV] max_depth=12, n_estimators=10 ...................................\n",
            "[CV] .................... max_depth=12, n_estimators=10, total=   0.4s\n",
            "[CV] max_depth=12, n_estimators=50 ...................................\n",
            "[CV] .................... max_depth=12, n_estimators=50, total=   2.0s\n",
            "[CV] max_depth=12, n_estimators=50 ...................................\n",
            "[CV] .................... max_depth=12, n_estimators=50, total=   1.9s\n",
            "[CV] max_depth=12, n_estimators=50 ...................................\n",
            "[CV] .................... max_depth=12, n_estimators=50, total=   1.9s\n",
            "[CV] max_depth=12, n_estimators=50 ...................................\n",
            "[CV] .................... max_depth=12, n_estimators=50, total=   2.0s\n",
            "[CV] max_depth=12, n_estimators=100 ..................................\n",
            "[CV] ................... max_depth=12, n_estimators=100, total=   4.0s\n",
            "[CV] max_depth=12, n_estimators=100 ..................................\n",
            "[CV] ................... max_depth=12, n_estimators=100, total=   3.9s\n",
            "[CV] max_depth=12, n_estimators=100 ..................................\n",
            "[CV] ................... max_depth=12, n_estimators=100, total=   3.9s\n",
            "[CV] max_depth=12, n_estimators=100 ..................................\n",
            "[CV] ................... max_depth=12, n_estimators=100, total=   3.9s\n",
            "[CV] max_depth=12, n_estimators=200 ..................................\n",
            "[CV] ................... max_depth=12, n_estimators=200, total=   7.9s\n",
            "[CV] max_depth=12, n_estimators=200 ..................................\n",
            "[CV] ................... max_depth=12, n_estimators=200, total=   7.9s\n",
            "[CV] max_depth=12, n_estimators=200 ..................................\n",
            "[CV] ................... max_depth=12, n_estimators=200, total=   7.9s\n",
            "[CV] max_depth=12, n_estimators=200 ..................................\n",
            "[CV] ................... max_depth=12, n_estimators=200, total=   7.9s\n"
          ],
          "name": "stdout"
        },
        {
          "output_type": "stream",
          "text": [
            "[Parallel(n_jobs=1)]: Done  64 out of  64 | elapsed:  2.7min finished\n",
            "/usr/local/lib/python3.6/dist-packages/sklearn/model_selection/_search.py:823: FutureWarning: The parameter 'iid' is deprecated in 0.22 and will be removed in 0.24.\n",
            "  \"removed in 0.24.\", FutureWarning\n"
          ],
          "name": "stderr"
        },
        {
          "output_type": "execute_result",
          "data": {
            "text/plain": [
              "GridSearchCV(cv=4, error_score=nan,\n",
              "             estimator=RandomForestClassifier(bootstrap=True, ccp_alpha=0.0,\n",
              "                                              class_weight=None,\n",
              "                                              criterion='gini', max_depth=3,\n",
              "                                              max_features='auto',\n",
              "                                              max_leaf_nodes=None,\n",
              "                                              max_samples=None,\n",
              "                                              min_impurity_decrease=0.0,\n",
              "                                              min_impurity_split=None,\n",
              "                                              min_samples_leaf=1,\n",
              "                                              min_samples_split=2,\n",
              "                                              min_weight_fraction_leaf=0.0,\n",
              "                                              n_estimators=10, n_jobs=None,\n",
              "                                              oob_score=False, random_state=4,\n",
              "                                              verbose=0, warm_start=False),\n",
              "             iid=False, n_jobs=None,\n",
              "             param_grid={'max_depth': [3, 6, 9, 12],\n",
              "                         'n_estimators': [10, 50, 100, 200]},\n",
              "             pre_dispatch=None, refit=True, return_train_score=True,\n",
              "             scoring='roc_auc', verbose=2)"
            ]
          },
          "metadata": {
            "tags": []
          },
          "execution_count": 12
        }
      ]
    },
    {
      "cell_type": "markdown",
      "metadata": {
        "id": "qHaPI3p7HWD_"
      },
      "source": [
        "___________________________________________________________\n",
        "**Put the results of the grid search in a pandas DataFrame.**"
      ]
    },
    {
      "cell_type": "code",
      "metadata": {
        "scrolled": true,
        "id": "N0jHbhi5HWD_",
        "colab": {
          "base_uri": "https://localhost:8080/",
          "height": 1000
        },
        "outputId": "e5b71f64-facc-49a0-8b86-927dadc29d73"
      },
      "source": [
        "grid_cv_results_df = pd.DataFrame(grid_cv.cv_results_)\r\n",
        "grid_cv_results_df"
      ],
      "execution_count": 13,
      "outputs": [
        {
          "output_type": "execute_result",
          "data": {
            "text/html": [
              "<div>\n",
              "<style scoped>\n",
              "    .dataframe tbody tr th:only-of-type {\n",
              "        vertical-align: middle;\n",
              "    }\n",
              "\n",
              "    .dataframe tbody tr th {\n",
              "        vertical-align: top;\n",
              "    }\n",
              "\n",
              "    .dataframe thead th {\n",
              "        text-align: right;\n",
              "    }\n",
              "</style>\n",
              "<table border=\"1\" class=\"dataframe\">\n",
              "  <thead>\n",
              "    <tr style=\"text-align: right;\">\n",
              "      <th></th>\n",
              "      <th>mean_fit_time</th>\n",
              "      <th>std_fit_time</th>\n",
              "      <th>mean_score_time</th>\n",
              "      <th>std_score_time</th>\n",
              "      <th>param_max_depth</th>\n",
              "      <th>param_n_estimators</th>\n",
              "      <th>params</th>\n",
              "      <th>split0_test_score</th>\n",
              "      <th>split1_test_score</th>\n",
              "      <th>split2_test_score</th>\n",
              "      <th>split3_test_score</th>\n",
              "      <th>mean_test_score</th>\n",
              "      <th>std_test_score</th>\n",
              "      <th>rank_test_score</th>\n",
              "      <th>split0_train_score</th>\n",
              "      <th>split1_train_score</th>\n",
              "      <th>split2_train_score</th>\n",
              "      <th>split3_train_score</th>\n",
              "      <th>mean_train_score</th>\n",
              "      <th>std_train_score</th>\n",
              "    </tr>\n",
              "  </thead>\n",
              "  <tbody>\n",
              "    <tr>\n",
              "      <th>0</th>\n",
              "      <td>0.141719</td>\n",
              "      <td>0.003064</td>\n",
              "      <td>0.008250</td>\n",
              "      <td>0.000212</td>\n",
              "      <td>3</td>\n",
              "      <td>10</td>\n",
              "      <td>{'max_depth': 3, 'n_estimators': 10}</td>\n",
              "      <td>0.739183</td>\n",
              "      <td>0.746599</td>\n",
              "      <td>0.772127</td>\n",
              "      <td>0.771322</td>\n",
              "      <td>0.757308</td>\n",
              "      <td>0.014656</td>\n",
              "      <td>15</td>\n",
              "      <td>0.767973</td>\n",
              "      <td>0.767158</td>\n",
              "      <td>0.760550</td>\n",
              "      <td>0.763683</td>\n",
              "      <td>0.764841</td>\n",
              "      <td>0.002955</td>\n",
              "    </tr>\n",
              "    <tr>\n",
              "      <th>1</th>\n",
              "      <td>0.706312</td>\n",
              "      <td>0.026209</td>\n",
              "      <td>0.023955</td>\n",
              "      <td>0.000523</td>\n",
              "      <td>3</td>\n",
              "      <td>50</td>\n",
              "      <td>{'max_depth': 3, 'n_estimators': 50}</td>\n",
              "      <td>0.748009</td>\n",
              "      <td>0.755878</td>\n",
              "      <td>0.779465</td>\n",
              "      <td>0.771250</td>\n",
              "      <td>0.763651</td>\n",
              "      <td>0.012379</td>\n",
              "      <td>12</td>\n",
              "      <td>0.775241</td>\n",
              "      <td>0.774025</td>\n",
              "      <td>0.765732</td>\n",
              "      <td>0.766947</td>\n",
              "      <td>0.770486</td>\n",
              "      <td>0.004191</td>\n",
              "    </tr>\n",
              "    <tr>\n",
              "      <th>2</th>\n",
              "      <td>1.329657</td>\n",
              "      <td>0.018890</td>\n",
              "      <td>0.042552</td>\n",
              "      <td>0.000385</td>\n",
              "      <td>3</td>\n",
              "      <td>100</td>\n",
              "      <td>{'max_depth': 3, 'n_estimators': 100}</td>\n",
              "      <td>0.747221</td>\n",
              "      <td>0.753924</td>\n",
              "      <td>0.779195</td>\n",
              "      <td>0.770937</td>\n",
              "      <td>0.762819</td>\n",
              "      <td>0.012811</td>\n",
              "      <td>13</td>\n",
              "      <td>0.774340</td>\n",
              "      <td>0.773598</td>\n",
              "      <td>0.766103</td>\n",
              "      <td>0.766914</td>\n",
              "      <td>0.770238</td>\n",
              "      <td>0.003750</td>\n",
              "    </tr>\n",
              "    <tr>\n",
              "      <th>3</th>\n",
              "      <td>2.632804</td>\n",
              "      <td>0.027156</td>\n",
              "      <td>0.081947</td>\n",
              "      <td>0.001534</td>\n",
              "      <td>3</td>\n",
              "      <td>200</td>\n",
              "      <td>{'max_depth': 3, 'n_estimators': 200}</td>\n",
              "      <td>0.747454</td>\n",
              "      <td>0.753057</td>\n",
              "      <td>0.777644</td>\n",
              "      <td>0.771729</td>\n",
              "      <td>0.762471</td>\n",
              "      <td>0.012550</td>\n",
              "      <td>14</td>\n",
              "      <td>0.774453</td>\n",
              "      <td>0.773534</td>\n",
              "      <td>0.766139</td>\n",
              "      <td>0.767404</td>\n",
              "      <td>0.770382</td>\n",
              "      <td>0.003653</td>\n",
              "    </tr>\n",
              "    <tr>\n",
              "      <th>4</th>\n",
              "      <td>0.227089</td>\n",
              "      <td>0.002562</td>\n",
              "      <td>0.008807</td>\n",
              "      <td>0.000165</td>\n",
              "      <td>6</td>\n",
              "      <td>10</td>\n",
              "      <td>{'max_depth': 6, 'n_estimators': 10}</td>\n",
              "      <td>0.752905</td>\n",
              "      <td>0.758904</td>\n",
              "      <td>0.780036</td>\n",
              "      <td>0.774017</td>\n",
              "      <td>0.766466</td>\n",
              "      <td>0.010980</td>\n",
              "      <td>11</td>\n",
              "      <td>0.795911</td>\n",
              "      <td>0.796476</td>\n",
              "      <td>0.793695</td>\n",
              "      <td>0.796446</td>\n",
              "      <td>0.795632</td>\n",
              "      <td>0.001141</td>\n",
              "    </tr>\n",
              "    <tr>\n",
              "      <th>5</th>\n",
              "      <td>1.135115</td>\n",
              "      <td>0.007542</td>\n",
              "      <td>0.028647</td>\n",
              "      <td>0.000425</td>\n",
              "      <td>6</td>\n",
              "      <td>50</td>\n",
              "      <td>{'max_depth': 6, 'n_estimators': 50}</td>\n",
              "      <td>0.760089</td>\n",
              "      <td>0.765251</td>\n",
              "      <td>0.788567</td>\n",
              "      <td>0.778669</td>\n",
              "      <td>0.773144</td>\n",
              "      <td>0.011193</td>\n",
              "      <td>8</td>\n",
              "      <td>0.807081</td>\n",
              "      <td>0.805109</td>\n",
              "      <td>0.799176</td>\n",
              "      <td>0.801229</td>\n",
              "      <td>0.803149</td>\n",
              "      <td>0.003113</td>\n",
              "    </tr>\n",
              "    <tr>\n",
              "      <th>6</th>\n",
              "      <td>2.245279</td>\n",
              "      <td>0.013297</td>\n",
              "      <td>0.052705</td>\n",
              "      <td>0.000227</td>\n",
              "      <td>6</td>\n",
              "      <td>100</td>\n",
              "      <td>{'max_depth': 6, 'n_estimators': 100}</td>\n",
              "      <td>0.760964</td>\n",
              "      <td>0.765515</td>\n",
              "      <td>0.788793</td>\n",
              "      <td>0.778936</td>\n",
              "      <td>0.773552</td>\n",
              "      <td>0.011004</td>\n",
              "      <td>7</td>\n",
              "      <td>0.808194</td>\n",
              "      <td>0.806130</td>\n",
              "      <td>0.800846</td>\n",
              "      <td>0.803123</td>\n",
              "      <td>0.804573</td>\n",
              "      <td>0.002808</td>\n",
              "    </tr>\n",
              "    <tr>\n",
              "      <th>7</th>\n",
              "      <td>4.515895</td>\n",
              "      <td>0.019492</td>\n",
              "      <td>0.105324</td>\n",
              "      <td>0.004096</td>\n",
              "      <td>6</td>\n",
              "      <td>200</td>\n",
              "      <td>{'max_depth': 6, 'n_estimators': 200}</td>\n",
              "      <td>0.761481</td>\n",
              "      <td>0.765319</td>\n",
              "      <td>0.787854</td>\n",
              "      <td>0.779745</td>\n",
              "      <td>0.773600</td>\n",
              "      <td>0.010682</td>\n",
              "      <td>6</td>\n",
              "      <td>0.808276</td>\n",
              "      <td>0.806853</td>\n",
              "      <td>0.800682</td>\n",
              "      <td>0.804006</td>\n",
              "      <td>0.804954</td>\n",
              "      <td>0.002906</td>\n",
              "    </tr>\n",
              "    <tr>\n",
              "      <th>8</th>\n",
              "      <td>0.325253</td>\n",
              "      <td>0.012066</td>\n",
              "      <td>0.010368</td>\n",
              "      <td>0.000533</td>\n",
              "      <td>9</td>\n",
              "      <td>10</td>\n",
              "      <td>{'max_depth': 9, 'n_estimators': 10}</td>\n",
              "      <td>0.757853</td>\n",
              "      <td>0.755444</td>\n",
              "      <td>0.781544</td>\n",
              "      <td>0.773823</td>\n",
              "      <td>0.767166</td>\n",
              "      <td>0.010899</td>\n",
              "      <td>10</td>\n",
              "      <td>0.854161</td>\n",
              "      <td>0.856197</td>\n",
              "      <td>0.850317</td>\n",
              "      <td>0.852039</td>\n",
              "      <td>0.853178</td>\n",
              "      <td>0.002211</td>\n",
              "    </tr>\n",
              "    <tr>\n",
              "      <th>9</th>\n",
              "      <td>1.554412</td>\n",
              "      <td>0.023669</td>\n",
              "      <td>0.035667</td>\n",
              "      <td>0.001345</td>\n",
              "      <td>9</td>\n",
              "      <td>50</td>\n",
              "      <td>{'max_depth': 9, 'n_estimators': 50}</td>\n",
              "      <td>0.763956</td>\n",
              "      <td>0.764420</td>\n",
              "      <td>0.786690</td>\n",
              "      <td>0.780255</td>\n",
              "      <td>0.773830</td>\n",
              "      <td>0.009908</td>\n",
              "      <td>4</td>\n",
              "      <td>0.867242</td>\n",
              "      <td>0.871380</td>\n",
              "      <td>0.868213</td>\n",
              "      <td>0.867390</td>\n",
              "      <td>0.868557</td>\n",
              "      <td>0.001672</td>\n",
              "    </tr>\n",
              "    <tr>\n",
              "      <th>10</th>\n",
              "      <td>3.086194</td>\n",
              "      <td>0.010212</td>\n",
              "      <td>0.067230</td>\n",
              "      <td>0.002529</td>\n",
              "      <td>9</td>\n",
              "      <td>100</td>\n",
              "      <td>{'max_depth': 9, 'n_estimators': 100}</td>\n",
              "      <td>0.763872</td>\n",
              "      <td>0.765788</td>\n",
              "      <td>0.789016</td>\n",
              "      <td>0.781199</td>\n",
              "      <td>0.774969</td>\n",
              "      <td>0.010530</td>\n",
              "      <td>3</td>\n",
              "      <td>0.872099</td>\n",
              "      <td>0.874119</td>\n",
              "      <td>0.870537</td>\n",
              "      <td>0.871196</td>\n",
              "      <td>0.871988</td>\n",
              "      <td>0.001350</td>\n",
              "    </tr>\n",
              "    <tr>\n",
              "      <th>11</th>\n",
              "      <td>6.214599</td>\n",
              "      <td>0.056605</td>\n",
              "      <td>0.127833</td>\n",
              "      <td>0.000945</td>\n",
              "      <td>9</td>\n",
              "      <td>200</td>\n",
              "      <td>{'max_depth': 9, 'n_estimators': 200}</td>\n",
              "      <td>0.764963</td>\n",
              "      <td>0.767541</td>\n",
              "      <td>0.790255</td>\n",
              "      <td>0.782034</td>\n",
              "      <td>0.776199</td>\n",
              "      <td>0.010402</td>\n",
              "      <td>1</td>\n",
              "      <td>0.873807</td>\n",
              "      <td>0.874909</td>\n",
              "      <td>0.871185</td>\n",
              "      <td>0.871246</td>\n",
              "      <td>0.872787</td>\n",
              "      <td>0.001619</td>\n",
              "    </tr>\n",
              "    <tr>\n",
              "      <th>12</th>\n",
              "      <td>0.393331</td>\n",
              "      <td>0.009293</td>\n",
              "      <td>0.012323</td>\n",
              "      <td>0.000063</td>\n",
              "      <td>12</td>\n",
              "      <td>10</td>\n",
              "      <td>{'max_depth': 12, 'n_estimators': 10}</td>\n",
              "      <td>0.754513</td>\n",
              "      <td>0.751116</td>\n",
              "      <td>0.764061</td>\n",
              "      <td>0.759223</td>\n",
              "      <td>0.757228</td>\n",
              "      <td>0.004884</td>\n",
              "      <td>16</td>\n",
              "      <td>0.922544</td>\n",
              "      <td>0.919157</td>\n",
              "      <td>0.926191</td>\n",
              "      <td>0.914636</td>\n",
              "      <td>0.920632</td>\n",
              "      <td>0.004263</td>\n",
              "    </tr>\n",
              "    <tr>\n",
              "      <th>13</th>\n",
              "      <td>1.943516</td>\n",
              "      <td>0.039846</td>\n",
              "      <td>0.043077</td>\n",
              "      <td>0.000468</td>\n",
              "      <td>12</td>\n",
              "      <td>50</td>\n",
              "      <td>{'max_depth': 12, 'n_estimators': 50}</td>\n",
              "      <td>0.763750</td>\n",
              "      <td>0.763663</td>\n",
              "      <td>0.780781</td>\n",
              "      <td>0.778086</td>\n",
              "      <td>0.771570</td>\n",
              "      <td>0.007921</td>\n",
              "      <td>9</td>\n",
              "      <td>0.940170</td>\n",
              "      <td>0.943000</td>\n",
              "      <td>0.942297</td>\n",
              "      <td>0.937049</td>\n",
              "      <td>0.940629</td>\n",
              "      <td>0.002315</td>\n",
              "    </tr>\n",
              "    <tr>\n",
              "      <th>14</th>\n",
              "      <td>3.846652</td>\n",
              "      <td>0.017785</td>\n",
              "      <td>0.083260</td>\n",
              "      <td>0.001657</td>\n",
              "      <td>12</td>\n",
              "      <td>100</td>\n",
              "      <td>{'max_depth': 12, 'n_estimators': 100}</td>\n",
              "      <td>0.765665</td>\n",
              "      <td>0.765061</td>\n",
              "      <td>0.783413</td>\n",
              "      <td>0.781119</td>\n",
              "      <td>0.773815</td>\n",
              "      <td>0.008493</td>\n",
              "      <td>5</td>\n",
              "      <td>0.942902</td>\n",
              "      <td>0.946968</td>\n",
              "      <td>0.946109</td>\n",
              "      <td>0.942448</td>\n",
              "      <td>0.944607</td>\n",
              "      <td>0.001962</td>\n",
              "    </tr>\n",
              "    <tr>\n",
              "      <th>15</th>\n",
              "      <td>7.730321</td>\n",
              "      <td>0.034378</td>\n",
              "      <td>0.162124</td>\n",
              "      <td>0.002645</td>\n",
              "      <td>12</td>\n",
              "      <td>200</td>\n",
              "      <td>{'max_depth': 12, 'n_estimators': 200}</td>\n",
              "      <td>0.765910</td>\n",
              "      <td>0.766963</td>\n",
              "      <td>0.785611</td>\n",
              "      <td>0.783513</td>\n",
              "      <td>0.775499</td>\n",
              "      <td>0.009101</td>\n",
              "      <td>2</td>\n",
              "      <td>0.945018</td>\n",
              "      <td>0.949378</td>\n",
              "      <td>0.946415</td>\n",
              "      <td>0.944689</td>\n",
              "      <td>0.946375</td>\n",
              "      <td>0.001851</td>\n",
              "    </tr>\n",
              "  </tbody>\n",
              "</table>\n",
              "</div>"
            ],
            "text/plain": [
              "    mean_fit_time  std_fit_time  ...  mean_train_score  std_train_score\n",
              "0        0.141719      0.003064  ...          0.764841         0.002955\n",
              "1        0.706312      0.026209  ...          0.770486         0.004191\n",
              "2        1.329657      0.018890  ...          0.770238         0.003750\n",
              "3        2.632804      0.027156  ...          0.770382         0.003653\n",
              "4        0.227089      0.002562  ...          0.795632         0.001141\n",
              "5        1.135115      0.007542  ...          0.803149         0.003113\n",
              "6        2.245279      0.013297  ...          0.804573         0.002808\n",
              "7        4.515895      0.019492  ...          0.804954         0.002906\n",
              "8        0.325253      0.012066  ...          0.853178         0.002211\n",
              "9        1.554412      0.023669  ...          0.868557         0.001672\n",
              "10       3.086194      0.010212  ...          0.871988         0.001350\n",
              "11       6.214599      0.056605  ...          0.872787         0.001619\n",
              "12       0.393331      0.009293  ...          0.920632         0.004263\n",
              "13       1.943516      0.039846  ...          0.940629         0.002315\n",
              "14       3.846652      0.017785  ...          0.944607         0.001962\n",
              "15       7.730321      0.034378  ...          0.946375         0.001851\n",
              "\n",
              "[16 rows x 20 columns]"
            ]
          },
          "metadata": {
            "tags": []
          },
          "execution_count": 13
        }
      ]
    },
    {
      "cell_type": "markdown",
      "metadata": {
        "id": "EcwPMD7AHWEA"
      },
      "source": [
        "**Find the best hyperparameters from the cross-validation.**"
      ]
    },
    {
      "cell_type": "code",
      "metadata": {
        "id": "r9_NvCZnHWEB",
        "colab": {
          "base_uri": "https://localhost:8080/"
        },
        "outputId": "8acf7683-ce97-4266-9a3d-12c2e2b2b063"
      },
      "source": [
        "\r\n",
        "grid_cv.best_params_"
      ],
      "execution_count": 15,
      "outputs": [
        {
          "output_type": "execute_result",
          "data": {
            "text/plain": [
              "{'max_depth': 9, 'n_estimators': 200}"
            ]
          },
          "metadata": {
            "tags": []
          },
          "execution_count": 15
        }
      ]
    },
    {
      "cell_type": "markdown",
      "metadata": {
        "id": "Q6gyZz5gHWEC"
      },
      "source": [
        "________________________________________________________________________________________________________\n",
        "**Create a `pcolormesh` visualization of the mean testing score for each combination of hyperparameters.**\n",
        "\n",
        "<details>\n",
        "    <summary>Hint:</summary>\n",
        "    Remember to reshape the values of the mean testing scores to be a two-dimensional 4x4 grid.\n",
        "</details>"
      ]
    },
    {
      "cell_type": "code",
      "metadata": {
        "id": "Zg1onQwQHWED",
        "colab": {
          "base_uri": "https://localhost:8080/"
        },
        "outputId": "f91b40e8-cd70-4636-b2d7-f9d218c1bd67"
      },
      "source": [
        "# Create a 5x5 grid\n",
        "x_coordi, y_coordi = np.meshgrid(range(5), range(5))\n",
        "z_coordi = grid_cv_results_df.mean_test_score.values.reshape(4,4)\n",
        "print(x_coordi)\n",
        "print(y_coordi)\n",
        "print(z_coordi)"
      ],
      "execution_count": 16,
      "outputs": [
        {
          "output_type": "stream",
          "text": [
            "[[0 1 2 3 4]\n",
            " [0 1 2 3 4]\n",
            " [0 1 2 3 4]\n",
            " [0 1 2 3 4]\n",
            " [0 1 2 3 4]]\n",
            "[[0 0 0 0 0]\n",
            " [1 1 1 1 1]\n",
            " [2 2 2 2 2]\n",
            " [3 3 3 3 3]\n",
            " [4 4 4 4 4]]\n",
            "[[0.75730766 0.76365051 0.76281941 0.76247114]\n",
            " [0.7664656  0.77314378 0.77355231 0.77359992]\n",
            " [0.76716589 0.77383029 0.77496884 0.77619851]\n",
            " [0.75722825 0.77157003 0.77381473 0.77549938]]\n"
          ],
          "name": "stdout"
        }
      ]
    },
    {
      "cell_type": "code",
      "metadata": {
        "id": "aB_ttvzOHWED"
      },
      "source": [
        "# Set color map to `plt.cm.jet`\n",
        "color_map = plt.cm.jet"
      ],
      "execution_count": 17,
      "outputs": []
    },
    {
      "cell_type": "code",
      "metadata": {
        "eid": "f0c62",
        "id": "jlzQ2BCzHWEE",
        "colab": {
          "base_uri": "https://localhost:8080/",
          "height": 283
        },
        "outputId": "7b640b34-5082-4b95-ab82-a8557fb3c01a"
      },
      "source": [
        "# Visualize pcolormesh\n",
        "\n",
        "ax = plt.axes()\n",
        "\n",
        "pcolor_ex = ax.pcolormesh(x_coordi, y_coordi, z_coordi, cmap = color_map)\n",
        "\n",
        "plt.colorbar(pcolor_ex, label='Color scale')\n",
        "ax.set_xlabel('X coordinate')\n",
        "ax.set_ylabel('Y coordinate')\n",
        "plt.show()"
      ],
      "execution_count": 18,
      "outputs": [
        {
          "output_type": "display_data",
          "data": {
            "image/png": "[encoded data removed]",
            "text/plain": [
              "<Figure size 432x288 with 2 Axes>"
            ]
          },
          "metadata": {
            "tags": [],
            "needs_background": "light"
          }
        }
      ]
    },
    {
      "cell_type": "markdown",
      "metadata": {
        "id": "-khHeBoEHWEF"
      },
      "source": [
        "________________________________________________________________________________________________________\n",
        "**Conclude which set of hyperparameters to use.**"
      ]
    },
    {
      "cell_type": "code",
      "metadata": {
        "id": "GvJmw7NkHWEF"
      },
      "source": [
        "# Create a dataframe of the feature names and importance\n",
        "feature_importance_df = pd.DataFrame({\n",
        "    'Feature Name': features_response[:-1],\n",
        "    'Importance': grid_cv.best_estimator_.feature_importances_\n",
        "})"
      ],
      "execution_count": 19,
      "outputs": []
    },
    {
      "cell_type": "code",
      "metadata": {
        "id": "m9WNiOTiHWEG",
        "colab": {
          "base_uri": "https://localhost:8080/",
          "height": 546
        },
        "outputId": "306b2253-9334-4b44-8b29-be0bbc988415"
      },
      "source": [
        "# Sort values by importance\n",
        "feature_importance_df.sort_values(\"Importance\", ascending = False)"
      ],
      "execution_count": 20,
      "outputs": [
        {
          "output_type": "execute_result",
          "data": {
            "text/html": [
              "<div>\n",
              "<style scoped>\n",
              "    .dataframe tbody tr th:only-of-type {\n",
              "        vertical-align: middle;\n",
              "    }\n",
              "\n",
              "    .dataframe tbody tr th {\n",
              "        vertical-align: top;\n",
              "    }\n",
              "\n",
              "    .dataframe thead th {\n",
              "        text-align: right;\n",
              "    }\n",
              "</style>\n",
              "<table border=\"1\" class=\"dataframe\">\n",
              "  <thead>\n",
              "    <tr style=\"text-align: right;\">\n",
              "      <th></th>\n",
              "      <th>Feature Name</th>\n",
              "      <th>Importance</th>\n",
              "    </tr>\n",
              "  </thead>\n",
              "  <tbody>\n",
              "    <tr>\n",
              "      <th>4</th>\n",
              "      <td>PAY_1</td>\n",
              "      <td>0.437439</td>\n",
              "    </tr>\n",
              "    <tr>\n",
              "      <th>0</th>\n",
              "      <td>LIMIT_BAL</td>\n",
              "      <td>0.059961</td>\n",
              "    </tr>\n",
              "    <tr>\n",
              "      <th>11</th>\n",
              "      <td>PAY_AMT1</td>\n",
              "      <td>0.059434</td>\n",
              "    </tr>\n",
              "    <tr>\n",
              "      <th>12</th>\n",
              "      <td>PAY_AMT2</td>\n",
              "      <td>0.045518</td>\n",
              "    </tr>\n",
              "    <tr>\n",
              "      <th>13</th>\n",
              "      <td>PAY_AMT3</td>\n",
              "      <td>0.043299</td>\n",
              "    </tr>\n",
              "    <tr>\n",
              "      <th>5</th>\n",
              "      <td>BILL_AMT1</td>\n",
              "      <td>0.042195</td>\n",
              "    </tr>\n",
              "    <tr>\n",
              "      <th>6</th>\n",
              "      <td>BILL_AMT2</td>\n",
              "      <td>0.041562</td>\n",
              "    </tr>\n",
              "    <tr>\n",
              "      <th>7</th>\n",
              "      <td>BILL_AMT3</td>\n",
              "      <td>0.037268</td>\n",
              "    </tr>\n",
              "    <tr>\n",
              "      <th>14</th>\n",
              "      <td>PAY_AMT4</td>\n",
              "      <td>0.034321</td>\n",
              "    </tr>\n",
              "    <tr>\n",
              "      <th>8</th>\n",
              "      <td>BILL_AMT4</td>\n",
              "      <td>0.034123</td>\n",
              "    </tr>\n",
              "    <tr>\n",
              "      <th>10</th>\n",
              "      <td>BILL_AMT6</td>\n",
              "      <td>0.033839</td>\n",
              "    </tr>\n",
              "    <tr>\n",
              "      <th>9</th>\n",
              "      <td>BILL_AMT5</td>\n",
              "      <td>0.032413</td>\n",
              "    </tr>\n",
              "    <tr>\n",
              "      <th>15</th>\n",
              "      <td>PAY_AMT5</td>\n",
              "      <td>0.030734</td>\n",
              "    </tr>\n",
              "    <tr>\n",
              "      <th>16</th>\n",
              "      <td>PAY_AMT6</td>\n",
              "      <td>0.029070</td>\n",
              "    </tr>\n",
              "    <tr>\n",
              "      <th>3</th>\n",
              "      <td>AGE</td>\n",
              "      <td>0.026774</td>\n",
              "    </tr>\n",
              "    <tr>\n",
              "      <th>1</th>\n",
              "      <td>EDUCATION</td>\n",
              "      <td>0.007545</td>\n",
              "    </tr>\n",
              "    <tr>\n",
              "      <th>2</th>\n",
              "      <td>MARRIAGE</td>\n",
              "      <td>0.004504</td>\n",
              "    </tr>\n",
              "  </tbody>\n",
              "</table>\n",
              "</div>"
            ],
            "text/plain": [
              "   Feature Name  Importance\n",
              "4         PAY_1    0.437439\n",
              "0     LIMIT_BAL    0.059961\n",
              "11     PAY_AMT1    0.059434\n",
              "12     PAY_AMT2    0.045518\n",
              "13     PAY_AMT3    0.043299\n",
              "5     BILL_AMT1    0.042195\n",
              "6     BILL_AMT2    0.041562\n",
              "7     BILL_AMT3    0.037268\n",
              "14     PAY_AMT4    0.034321\n",
              "8     BILL_AMT4    0.034123\n",
              "10    BILL_AMT6    0.033839\n",
              "9     BILL_AMT5    0.032413\n",
              "15     PAY_AMT5    0.030734\n",
              "16     PAY_AMT6    0.029070\n",
              "3           AGE    0.026774\n",
              "1     EDUCATION    0.007545\n",
              "2      MARRIAGE    0.004504"
            ]
          },
          "metadata": {
            "tags": []
          },
          "execution_count": 20
        }
      ]
    }
  ]
}